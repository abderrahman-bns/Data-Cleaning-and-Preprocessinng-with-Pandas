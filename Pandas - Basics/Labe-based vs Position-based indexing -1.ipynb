{
 "cells": [
  {
   "cell_type": "markdown",
   "id": "ad2c3c21",
   "metadata": {},
   "source": [
    "## Label-based vs Position-based Indexing"
   ]
  },
  {
   "cell_type": "code",
   "execution_count": 1,
   "id": "4f8508cd",
   "metadata": {},
   "outputs": [],
   "source": [
    "import pandas as pd"
   ]
  },
  {
   "cell_type": "markdown",
   "id": "78142b1e",
   "metadata": {},
   "source": [
    "### Position-based indexing or Zero-based indexing"
   ]
  },
  {
   "cell_type": "code",
   "execution_count": 2,
   "id": "e7cdedb6",
   "metadata": {},
   "outputs": [],
   "source": [
    "series_a = pd.Series([10, 20, 30, 40])"
   ]
  },
  {
   "cell_type": "markdown",
   "id": "2b4c94f5",
   "metadata": {},
   "source": [
    "##### Implicit indexing"
   ]
  },
  {
   "cell_type": "code",
   "execution_count": 3,
   "id": "1b1c9d98",
   "metadata": {},
   "outputs": [
    {
     "data": {
      "text/plain": [
       "RangeIndex(start=0, stop=4, step=1)"
      ]
     },
     "execution_count": 3,
     "metadata": {},
     "output_type": "execute_result"
    }
   ],
   "source": [
    "series_a.index"
   ]
  },
  {
   "cell_type": "code",
   "execution_count": 4,
   "id": "9fe95684",
   "metadata": {},
   "outputs": [
    {
     "data": {
      "text/plain": [
       "pandas.core.indexes.range.RangeIndex"
      ]
     },
     "execution_count": 4,
     "metadata": {},
     "output_type": "execute_result"
    }
   ],
   "source": [
    "type(series_a.index)"
   ]
  },
  {
   "cell_type": "code",
   "execution_count": 5,
   "id": "92e0044c",
   "metadata": {},
   "outputs": [
    {
     "data": {
      "text/plain": [
       "[0, 1, 2, 3]"
      ]
     },
     "execution_count": 5,
     "metadata": {},
     "output_type": "execute_result"
    }
   ],
   "source": [
    "list(series_a.index)"
   ]
  },
  {
   "cell_type": "markdown",
   "id": "921d3692",
   "metadata": {},
   "source": [
    "### Label-based indexing"
   ]
  },
  {
   "cell_type": "code",
   "execution_count": 6,
   "id": "e4b5cb99",
   "metadata": {},
   "outputs": [],
   "source": [
    "prices_per_category = pd.Series({'product_A': 2500, 'product_B': 1900, 'product_C': 3400})"
   ]
  },
  {
   "cell_type": "code",
   "execution_count": 7,
   "id": "621ac143",
   "metadata": {},
   "outputs": [
    {
     "data": {
      "text/plain": [
       "product_A    2500\n",
       "product_B    1900\n",
       "product_C    3400\n",
       "dtype: int64"
      ]
     },
     "execution_count": 7,
     "metadata": {},
     "output_type": "execute_result"
    }
   ],
   "source": [
    "prices_per_category"
   ]
  },
  {
   "cell_type": "markdown",
   "id": "da95bc70",
   "metadata": {},
   "source": [
    "##### Explicit indexing"
   ]
  },
  {
   "cell_type": "code",
   "execution_count": 8,
   "id": "f98bbf6f",
   "metadata": {},
   "outputs": [
    {
     "data": {
      "text/plain": [
       "Index(['product_A', 'product_B', 'product_C'], dtype='object')"
      ]
     },
     "execution_count": 8,
     "metadata": {},
     "output_type": "execute_result"
    }
   ],
   "source": [
    "prices_per_category.index"
   ]
  },
  {
   "cell_type": "code",
   "execution_count": 9,
   "id": "2e4330d1",
   "metadata": {},
   "outputs": [
    {
     "data": {
      "text/plain": [
       "pandas.core.indexes.base.Index"
      ]
     },
     "execution_count": 9,
     "metadata": {},
     "output_type": "execute_result"
    }
   ],
   "source": [
    "type(prices_per_category.index)"
   ]
  }
 ],
 "metadata": {
  "kernelspec": {
   "display_name": "Python 3",
   "language": "python",
   "name": "python3"
  },
  "language_info": {
   "codemirror_mode": {
    "name": "ipython",
    "version": 3
   },
   "file_extension": ".py",
   "mimetype": "text/x-python",
   "name": "python",
   "nbconvert_exporter": "python",
   "pygments_lexer": "ipython3",
   "version": "3.8.8"
  }
 },
 "nbformat": 4,
 "nbformat_minor": 5
}
