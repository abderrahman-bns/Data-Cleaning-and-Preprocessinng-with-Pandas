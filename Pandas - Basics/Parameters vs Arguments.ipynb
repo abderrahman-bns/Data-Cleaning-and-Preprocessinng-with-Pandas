{
 "cells": [
  {
   "cell_type": "code",
   "execution_count": 1,
   "id": "c1d3ae6f",
   "metadata": {},
   "outputs": [],
   "source": [
    "import pandas as pd"
   ]
  },
  {
   "cell_type": "code",
   "execution_count": 2,
   "id": "99018335",
   "metadata": {},
   "outputs": [],
   "source": [
    "start_date_deposits = pd.Series({\n",
    "    '5/5/2018' : 2000,\n",
    "    '4/2/2019' : 4000,\n",
    "    '10/7/2021' : 1000,\n",
    "    '4/6/2020' : 3000,\n",
    "    '3/7/2019' : 2000,\n",
    "    '3/23/2020' : 4000,\n",
    "    '8/18/2018' : 3000,\n",
    "    '9/27/2018' : 2000,\n",
    "    '4/13/2021' : 1000,\n",
    "    '1/7/2020' : 2000,\n",
    "    '8/9/2019' : 4000,\n",
    "})"
   ]
  },
  {
   "cell_type": "code",
   "execution_count": 3,
   "id": "6f468c10",
   "metadata": {},
   "outputs": [
    {
     "data": {
      "text/plain": [
       "5/5/2018     2000\n",
       "4/2/2019     4000\n",
       "10/7/2021    1000\n",
       "4/6/2020     3000\n",
       "3/7/2019     2000\n",
       "3/23/2020    4000\n",
       "8/18/2018    3000\n",
       "9/27/2018    2000\n",
       "4/13/2021    1000\n",
       "1/7/2020     2000\n",
       "8/9/2019     4000\n",
       "dtype: int64"
      ]
     },
     "execution_count": 3,
     "metadata": {},
     "output_type": "execute_result"
    }
   ],
   "source": [
    "start_date_deposits"
   ]
  },
  {
   "cell_type": "code",
   "execution_count": 4,
   "id": "0f8e4316",
   "metadata": {},
   "outputs": [
    {
     "data": {
      "text/plain": [
       "5/5/2018     2000\n",
       "4/2/2019     4000\n",
       "10/7/2021    1000\n",
       "4/6/2020     3000\n",
       "3/7/2019     2000\n",
       "dtype: int64"
      ]
     },
     "execution_count": 4,
     "metadata": {},
     "output_type": "execute_result"
    }
   ],
   "source": [
    "start_date_deposits.head()"
   ]
  },
  {
   "cell_type": "code",
   "execution_count": 5,
   "id": "23021f52",
   "metadata": {},
   "outputs": [
    {
     "data": {
      "text/plain": [
       "5/5/2018     2000\n",
       "4/2/2019     4000\n",
       "10/7/2021    1000\n",
       "dtype: int64"
      ]
     },
     "execution_count": 5,
     "metadata": {},
     "output_type": "execute_result"
    }
   ],
   "source": [
    "start_date_deposits.head(3)"
   ]
  },
  {
   "cell_type": "code",
   "execution_count": 6,
   "id": "84af74be",
   "metadata": {},
   "outputs": [
    {
     "data": {
      "text/plain": [
       "5/5/2018     2000\n",
       "4/2/2019     4000\n",
       "10/7/2021    1000\n",
       "4/6/2020     3000\n",
       "3/7/2019     2000\n",
       "3/23/2020    4000\n",
       "8/18/2018    3000\n",
       "9/27/2018    2000\n",
       "4/13/2021    1000\n",
       "1/7/2020     2000\n",
       "dtype: int64"
      ]
     },
     "execution_count": 6,
     "metadata": {},
     "output_type": "execute_result"
    }
   ],
   "source": [
    "start_date_deposits.head(10)"
   ]
  },
  {
   "cell_type": "markdown",
   "id": "86e530e1",
   "metadata": {},
   "source": [
    "##### The number of lines n (parameter) the choice we choose for n (argument) "
   ]
  },
  {
   "cell_type": "code",
   "execution_count": 7,
   "id": "abee69a1",
   "metadata": {},
   "outputs": [
    {
     "data": {
      "text/plain": [
       "5/5/2018     2000\n",
       "4/2/2019     4000\n",
       "10/7/2021    1000\n",
       "4/6/2020     3000\n",
       "3/7/2019     2000\n",
       "dtype: int64"
      ]
     },
     "execution_count": 7,
     "metadata": {},
     "output_type": "execute_result"
    }
   ],
   "source": [
    "start_date_deposits.head()"
   ]
  },
  {
   "cell_type": "code",
   "execution_count": 8,
   "id": "0bdd1473",
   "metadata": {},
   "outputs": [
    {
     "data": {
      "text/plain": [
       "5/5/2018     2000\n",
       "4/2/2019     4000\n",
       "10/7/2021    1000\n",
       "dtype: int64"
      ]
     },
     "execution_count": 8,
     "metadata": {},
     "output_type": "execute_result"
    }
   ],
   "source": [
    "start_date_deposits.head(n=3)"
   ]
  },
  {
   "cell_type": "markdown",
   "id": "f290c8b3",
   "metadata": {},
   "source": [
    "##### What parameters you are providing the arguments for "
   ]
  }
 ],
 "metadata": {
  "kernelspec": {
   "display_name": "Python 3",
   "language": "python",
   "name": "python3"
  },
  "language_info": {
   "codemirror_mode": {
    "name": "ipython",
    "version": 3
   },
   "file_extension": ".py",
   "mimetype": "text/x-python",
   "name": "python",
   "nbconvert_exporter": "python",
   "pygments_lexer": "ipython3",
   "version": "3.8.8"
  }
 },
 "nbformat": 4,
 "nbformat_minor": 5
}
