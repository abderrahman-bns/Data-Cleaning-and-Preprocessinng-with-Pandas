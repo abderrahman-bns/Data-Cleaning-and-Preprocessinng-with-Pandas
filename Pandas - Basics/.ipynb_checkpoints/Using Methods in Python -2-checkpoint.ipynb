{
 "cells": [
  {
   "cell_type": "markdown",
   "id": "9e3631bf",
   "metadata": {},
   "source": [
    "## Using Methods in Python - Part II"
   ]
  },
  {
   "cell_type": "code",
   "execution_count": 1,
   "id": "b0f126cb",
   "metadata": {},
   "outputs": [],
   "source": [
    "import pandas as pd"
   ]
  },
  {
   "cell_type": "code",
   "execution_count": 2,
   "id": "7915ca9c",
   "metadata": {},
   "outputs": [],
   "source": [
    "start_date_deposits = pd.Series({\n",
    "    '5/5/2018' : 2000,\n",
    "    '4/2/2019' : 4000,\n",
    "    '10/7/2021' : 1000,\n",
    "    '4/6/2020' : 3000,\n",
    "    '3/7/2019' : 2000,\n",
    "    '3/23/2020' : 4000,\n",
    "    '8/18/2018' : 3000,\n",
    "    '9/27/2018' : 2000,\n",
    "    '4/13/2021' : 1000,\n",
    "    '1/7/2020' : 2000,\n",
    "    '8/9/2019' : 4000,\n",
    "})"
   ]
  },
  {
   "cell_type": "code",
   "execution_count": 3,
   "id": "a0afdd1a",
   "metadata": {
    "scrolled": true
   },
   "outputs": [
    {
     "data": {
      "text/plain": [
       "5/5/2018     2000\n",
       "4/2/2019     4000\n",
       "10/7/2021    1000\n",
       "4/6/2020     3000\n",
       "3/7/2019     2000\n",
       "3/23/2020    4000\n",
       "8/18/2018    3000\n",
       "9/27/2018    2000\n",
       "4/13/2021    1000\n",
       "1/7/2020     2000\n",
       "8/9/2019     4000\n",
       "dtype: int64"
      ]
     },
     "execution_count": 3,
     "metadata": {},
     "output_type": "execute_result"
    }
   ],
   "source": [
    "start_date_deposits"
   ]
  },
  {
   "cell_type": "code",
   "execution_count": 4,
   "id": "49093c98",
   "metadata": {},
   "outputs": [
    {
     "data": {
      "text/plain": [
       "5/5/2018     2000\n",
       "4/2/2019     4000\n",
       "10/7/2021    1000\n",
       "4/6/2020     3000\n",
       "3/7/2019     2000\n",
       "dtype: int64"
      ]
     },
     "execution_count": 4,
     "metadata": {},
     "output_type": "execute_result"
    }
   ],
   "source": [
    "start_date_deposits.head()"
   ]
  },
  {
   "cell_type": "code",
   "execution_count": 6,
   "id": "24130b66",
   "metadata": {},
   "outputs": [
    {
     "data": {
      "text/plain": [
       "8/18/2018    3000\n",
       "9/27/2018    2000\n",
       "4/13/2021    1000\n",
       "1/7/2020     2000\n",
       "8/9/2019     4000\n",
       "dtype: int64"
      ]
     },
     "execution_count": 6,
     "metadata": {},
     "output_type": "execute_result"
    }
   ],
   "source": [
    "start_date_deposits.tail()"
   ]
  }
 ],
 "metadata": {
  "kernelspec": {
   "display_name": "Python 3",
   "language": "python",
   "name": "python3"
  },
  "language_info": {
   "codemirror_mode": {
    "name": "ipython",
    "version": 3
   },
   "file_extension": ".py",
   "mimetype": "text/x-python",
   "name": "python",
   "nbconvert_exporter": "python",
   "pygments_lexer": "ipython3",
   "version": "3.8.8"
  }
 },
 "nbformat": 4,
 "nbformat_minor": 5
}
