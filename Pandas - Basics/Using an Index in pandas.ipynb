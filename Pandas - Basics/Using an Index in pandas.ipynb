{
 "cells": [
  {
   "cell_type": "markdown",
   "id": "cdeb81ce",
   "metadata": {},
   "source": [
    "## Using an Index in pandas"
   ]
  },
  {
   "cell_type": "code",
   "execution_count": 1,
   "id": "ac247c35",
   "metadata": {},
   "outputs": [],
   "source": [
    "import pandas as pd"
   ]
  },
  {
   "cell_type": "code",
   "execution_count": 2,
   "id": "858f04fb",
   "metadata": {},
   "outputs": [
    {
     "data": {
      "text/plain": [
       "{'product_A': 250, 'product_B': 180, 'product_C': 476}"
      ]
     },
     "execution_count": 2,
     "metadata": {},
     "output_type": "execute_result"
    }
   ],
   "source": [
    "prices_per_category = {'product_A': 250, 'product_B': 180, 'product_C': 476}\n",
    "prices_per_category"
   ]
  },
  {
   "cell_type": "code",
   "execution_count": 3,
   "id": "b50cdf39",
   "metadata": {},
   "outputs": [
    {
     "data": {
      "text/plain": [
       "dict"
      ]
     },
     "execution_count": 3,
     "metadata": {},
     "output_type": "execute_result"
    }
   ],
   "source": [
    "type(prices_per_category)"
   ]
  },
  {
   "cell_type": "code",
   "execution_count": 4,
   "id": "a7b02b61",
   "metadata": {},
   "outputs": [],
   "source": [
    "prices_per_category = pd.Series(prices_per_category)"
   ]
  },
  {
   "cell_type": "code",
   "execution_count": 5,
   "id": "58ab3c83",
   "metadata": {},
   "outputs": [
    {
     "data": {
      "text/plain": [
       "product_A    250\n",
       "product_B    180\n",
       "product_C    476\n",
       "dtype: int64"
      ]
     },
     "execution_count": 5,
     "metadata": {},
     "output_type": "execute_result"
    }
   ],
   "source": [
    "prices_per_category"
   ]
  },
  {
   "cell_type": "code",
   "execution_count": 6,
   "id": "2582a12c",
   "metadata": {},
   "outputs": [
    {
     "data": {
      "text/plain": [
       "pandas.core.series.Series"
      ]
     },
     "execution_count": 6,
     "metadata": {},
     "output_type": "execute_result"
    }
   ],
   "source": [
    "type(prices_per_category)"
   ]
  },
  {
   "cell_type": "code",
   "execution_count": 7,
   "id": "e6cdfeb9",
   "metadata": {},
   "outputs": [
    {
     "data": {
      "text/plain": [
       "Index(['product_A', 'product_B', 'product_C'], dtype='object')"
      ]
     },
     "execution_count": 7,
     "metadata": {},
     "output_type": "execute_result"
    }
   ],
   "source": [
    "prices_per_category.index"
   ]
  },
  {
   "cell_type": "code",
   "execution_count": 8,
   "id": "d5abbe4d",
   "metadata": {},
   "outputs": [
    {
     "data": {
      "text/plain": [
       "pandas.core.indexes.base.Index"
      ]
     },
     "execution_count": 8,
     "metadata": {},
     "output_type": "execute_result"
    }
   ],
   "source": [
    "type(prices_per_category.index)"
   ]
  }
 ],
 "metadata": {
  "kernelspec": {
   "display_name": "Python 3",
   "language": "python",
   "name": "python3"
  },
  "language_info": {
   "codemirror_mode": {
    "name": "ipython",
    "version": 3
   },
   "file_extension": ".py",
   "mimetype": "text/x-python",
   "name": "python",
   "nbconvert_exporter": "python",
   "pygments_lexer": "ipython3",
   "version": "3.8.8"
  }
 },
 "nbformat": 4,
 "nbformat_minor": 5
}
