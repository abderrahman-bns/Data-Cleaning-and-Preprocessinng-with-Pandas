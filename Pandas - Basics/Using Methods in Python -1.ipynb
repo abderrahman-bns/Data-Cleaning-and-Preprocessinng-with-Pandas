{
 "cells": [
  {
   "cell_type": "markdown",
   "id": "cee0a6f6",
   "metadata": {},
   "source": [
    "## Using Methods in Python - Part I"
   ]
  },
  {
   "cell_type": "code",
   "execution_count": 1,
   "id": "f0d7ae8d",
   "metadata": {},
   "outputs": [],
   "source": [
    "import pandas as pd"
   ]
  },
  {
   "cell_type": "code",
   "execution_count": 3,
   "id": "6bfec665",
   "metadata": {},
   "outputs": [],
   "source": [
    "start_date_deposits = pd.Series({\n",
    "    '5/5/2018' : 2000,\n",
    "    '4/2/2019' : 4000,\n",
    "    '10/7/2021' : 1000,\n",
    "    '4/6/2020' : 3000,\n",
    "    '3/7/2019' : 2000,\n",
    "    '3/23/2020' : 4000,\n",
    "    '8/18/2018' : 3000,\n",
    "    '9/27/2018' : 2000,\n",
    "    '4/13/2021' : 1000,\n",
    "    '1/7/2020' : 2000,\n",
    "    '8/9/2019' : 4000,\n",
    "})"
   ]
  },
  {
   "cell_type": "code",
   "execution_count": 4,
   "id": "1a50c69c",
   "metadata": {},
   "outputs": [
    {
     "data": {
      "text/plain": [
       "5/5/2018     2000\n",
       "4/2/2019     4000\n",
       "10/7/2021    1000\n",
       "4/6/2020     3000\n",
       "3/7/2019     2000\n",
       "3/23/2020    4000\n",
       "8/18/2018    3000\n",
       "9/27/2018    2000\n",
       "4/13/2021    1000\n",
       "1/7/2020     2000\n",
       "8/9/2019     4000\n",
       "dtype: int64"
      ]
     },
     "execution_count": 4,
     "metadata": {},
     "output_type": "execute_result"
    }
   ],
   "source": [
    "start_date_deposits"
   ]
  },
  {
   "cell_type": "code",
   "execution_count": 5,
   "id": "7512d075",
   "metadata": {},
   "outputs": [
    {
     "data": {
      "text/plain": [
       "<bound method NDFrame._add_numeric_operations.<locals>.sum of 5/5/2018     2000\n",
       "4/2/2019     4000\n",
       "10/7/2021    1000\n",
       "4/6/2020     3000\n",
       "3/7/2019     2000\n",
       "3/23/2020    4000\n",
       "8/18/2018    3000\n",
       "9/27/2018    2000\n",
       "4/13/2021    1000\n",
       "1/7/2020     2000\n",
       "8/9/2019     4000\n",
       "dtype: int64>"
      ]
     },
     "execution_count": 5,
     "metadata": {},
     "output_type": "execute_result"
    }
   ],
   "source": [
    "start_date_deposits.sum"
   ]
  },
  {
   "cell_type": "code",
   "execution_count": 6,
   "id": "bbe2e4bb",
   "metadata": {},
   "outputs": [
    {
     "data": {
      "text/plain": [
       "28000"
      ]
     },
     "execution_count": 6,
     "metadata": {},
     "output_type": "execute_result"
    }
   ],
   "source": [
    "start_date_deposits.sum()"
   ]
  },
  {
   "cell_type": "code",
   "execution_count": 7,
   "id": "3594a662",
   "metadata": {},
   "outputs": [
    {
     "data": {
      "text/plain": [
       "1000"
      ]
     },
     "execution_count": 7,
     "metadata": {},
     "output_type": "execute_result"
    }
   ],
   "source": [
    "start_date_deposits.min()"
   ]
  },
  {
   "cell_type": "code",
   "execution_count": 8,
   "id": "bfb5b8d7",
   "metadata": {},
   "outputs": [
    {
     "data": {
      "text/plain": [
       "4000"
      ]
     },
     "execution_count": 8,
     "metadata": {},
     "output_type": "execute_result"
    }
   ],
   "source": [
    "start_date_deposits.max()"
   ]
  },
  {
   "cell_type": "code",
   "execution_count": 10,
   "id": "af40fa35",
   "metadata": {},
   "outputs": [
    {
     "data": {
      "text/plain": [
       "'4/2/2019'"
      ]
     },
     "execution_count": 10,
     "metadata": {},
     "output_type": "execute_result"
    }
   ],
   "source": [
    "start_date_deposits.idxmax()\n",
    "# first index of the max value "
   ]
  },
  {
   "cell_type": "code",
   "execution_count": 11,
   "id": "fe44bdab",
   "metadata": {},
   "outputs": [
    {
     "data": {
      "text/plain": [
       "'10/7/2021'"
      ]
     },
     "execution_count": 11,
     "metadata": {},
     "output_type": "execute_result"
    }
   ],
   "source": [
    "start_date_deposits.idxmin()\n",
    "# first index of the min value"
   ]
  }
 ],
 "metadata": {
  "kernelspec": {
   "display_name": "Python 3",
   "language": "python",
   "name": "python3"
  },
  "language_info": {
   "codemirror_mode": {
    "name": "ipython",
    "version": 3
   },
   "file_extension": ".py",
   "mimetype": "text/x-python",
   "name": "python",
   "nbconvert_exporter": "python",
   "pygments_lexer": "ipython3",
   "version": "3.8.8"
  }
 },
 "nbformat": 4,
 "nbformat_minor": 5
}
