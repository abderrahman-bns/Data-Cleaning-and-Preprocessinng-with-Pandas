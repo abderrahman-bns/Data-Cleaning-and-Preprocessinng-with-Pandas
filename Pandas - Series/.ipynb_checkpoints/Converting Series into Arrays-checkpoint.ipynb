{
 "cells": [
  {
   "cell_type": "markdown",
   "id": "4a67f26f",
   "metadata": {},
   "source": [
    "## Converting Series into Arrays (.values, .array, .to_numpy())"
   ]
  },
  {
   "cell_type": "code",
   "execution_count": 1,
   "id": "54114a47",
   "metadata": {},
   "outputs": [],
   "source": [
    "import pandas as pd \n",
    "import numpy as np"
   ]
  },
  {
   "cell_type": "code",
   "execution_count": 2,
   "id": "14e678c0",
   "metadata": {},
   "outputs": [
    {
     "data": {
      "text/plain": [
       "Product A    100\n",
       "Product B    200\n",
       "Product C    300\n",
       "dtype: int64"
      ]
     },
     "execution_count": 2,
     "metadata": {},
     "output_type": "execute_result"
    }
   ],
   "source": [
    "prices_per_category = pd.Series({'Product A': 100, 'Product B': 200, 'Product C': 300})\n",
    "prices_per_category"
   ]
  },
  {
   "cell_type": "code",
   "execution_count": 3,
   "id": "d417db4d",
   "metadata": {},
   "outputs": [
    {
     "data": {
      "text/plain": [
       "array([100, 200, 300], dtype=int64)"
      ]
     },
     "execution_count": 3,
     "metadata": {},
     "output_type": "execute_result"
    }
   ],
   "source": [
    "prices_per_category.values"
   ]
  },
  {
   "cell_type": "code",
   "execution_count": 4,
   "id": "8764a358",
   "metadata": {},
   "outputs": [
    {
     "data": {
      "text/plain": [
       "numpy.ndarray"
      ]
     },
     "execution_count": 4,
     "metadata": {},
     "output_type": "execute_result"
    }
   ],
   "source": [
    "type(prices_per_category.values)"
   ]
  },
  {
   "cell_type": "code",
   "execution_count": 5,
   "id": "0d4dddec",
   "metadata": {},
   "outputs": [
    {
     "data": {
      "text/plain": [
       "<PandasArray>\n",
       "[100, 200, 300]\n",
       "Length: 3, dtype: int64"
      ]
     },
     "execution_count": 5,
     "metadata": {},
     "output_type": "execute_result"
    }
   ],
   "source": [
    "prices_per_category.array"
   ]
  },
  {
   "cell_type": "code",
   "execution_count": 6,
   "id": "b53e7e26",
   "metadata": {},
   "outputs": [
    {
     "data": {
      "text/plain": [
       "pandas.core.arrays.numpy_.PandasArray"
      ]
     },
     "execution_count": 6,
     "metadata": {},
     "output_type": "execute_result"
    }
   ],
   "source": [
    "type(prices_per_category.array)"
   ]
  },
  {
   "cell_type": "code",
   "execution_count": 7,
   "id": "c210afb7",
   "metadata": {},
   "outputs": [
    {
     "data": {
      "text/plain": [
       "array([100, 200, 300], dtype=int64)"
      ]
     },
     "execution_count": 7,
     "metadata": {},
     "output_type": "execute_result"
    }
   ],
   "source": [
    "prices_per_category.to_numpy()"
   ]
  },
  {
   "cell_type": "code",
   "execution_count": 8,
   "id": "1a16aa7e",
   "metadata": {},
   "outputs": [
    {
     "data": {
      "text/plain": [
       "numpy.ndarray"
      ]
     },
     "execution_count": 8,
     "metadata": {},
     "output_type": "execute_result"
    }
   ],
   "source": [
    "type(prices_per_category.to_numpy())"
   ]
  },
  {
   "cell_type": "code",
   "execution_count": 9,
   "id": "a4c77d76",
   "metadata": {},
   "outputs": [
    {
     "data": {
      "text/plain": [
       "array([100., 200.])"
      ]
     },
     "execution_count": 9,
     "metadata": {},
     "output_type": "execute_result"
    }
   ],
   "source": [
    "test_array = prices_per_category[['Product A', 'Product B']].to_numpy(dtype='float')\n",
    "test_array"
   ]
  },
  {
   "cell_type": "code",
   "execution_count": 10,
   "id": "82dcc4e6",
   "metadata": {},
   "outputs": [
    {
     "data": {
      "text/plain": [
       "numpy.float64"
      ]
     },
     "execution_count": 10,
     "metadata": {},
     "output_type": "execute_result"
    }
   ],
   "source": [
    "type(test_array[0])"
   ]
  },
  {
   "cell_type": "code",
   "execution_count": 11,
   "id": "d7efb419",
   "metadata": {},
   "outputs": [
    {
     "data": {
      "text/plain": [
       "100"
      ]
     },
     "execution_count": 11,
     "metadata": {},
     "output_type": "execute_result"
    }
   ],
   "source": [
    "prices_per_category.values[0]"
   ]
  },
  {
   "cell_type": "code",
   "execution_count": 12,
   "id": "b3abc345",
   "metadata": {},
   "outputs": [
    {
     "data": {
      "text/plain": [
       "numpy.int64"
      ]
     },
     "execution_count": 12,
     "metadata": {},
     "output_type": "execute_result"
    }
   ],
   "source": [
    "type(prices_per_category.values[0])"
   ]
  },
  {
   "cell_type": "code",
   "execution_count": 13,
   "id": "4be38f41",
   "metadata": {},
   "outputs": [
    {
     "data": {
      "text/plain": [
       "100"
      ]
     },
     "execution_count": 13,
     "metadata": {},
     "output_type": "execute_result"
    }
   ],
   "source": [
    "prices_per_category.array[0]"
   ]
  },
  {
   "cell_type": "code",
   "execution_count": 14,
   "id": "22e24e9b",
   "metadata": {},
   "outputs": [
    {
     "data": {
      "text/plain": [
       "numpy.int64"
      ]
     },
     "execution_count": 14,
     "metadata": {},
     "output_type": "execute_result"
    }
   ],
   "source": [
    "type(prices_per_category.array[0])"
   ]
  },
  {
   "cell_type": "code",
   "execution_count": 15,
   "id": "97ffb203",
   "metadata": {},
   "outputs": [
    {
     "data": {
      "text/plain": [
       "100"
      ]
     },
     "execution_count": 15,
     "metadata": {},
     "output_type": "execute_result"
    }
   ],
   "source": [
    "prices_per_category.to_numpy()[0]"
   ]
  },
  {
   "cell_type": "code",
   "execution_count": 16,
   "id": "431f0a3e",
   "metadata": {},
   "outputs": [
    {
     "data": {
      "text/plain": [
       "numpy.int64"
      ]
     },
     "execution_count": 16,
     "metadata": {},
     "output_type": "execute_result"
    }
   ],
   "source": [
    "type(prices_per_category.to_numpy()[0])"
   ]
  },
  {
   "cell_type": "markdown",
   "id": "58494f11",
   "metadata": {},
   "source": [
    "##### Avoid to use .values and use .array (pandas) .to_numpy() (numpy)"
   ]
  }
 ],
 "metadata": {
  "kernelspec": {
   "display_name": "Python 3",
   "language": "python",
   "name": "python3"
  },
  "language_info": {
   "codemirror_mode": {
    "name": "ipython",
    "version": 3
   },
   "file_extension": ".py",
   "mimetype": "text/x-python",
   "name": "python",
   "nbconvert_exporter": "python",
   "pygments_lexer": "ipython3",
   "version": "3.8.8"
  }
 },
 "nbformat": 4,
 "nbformat_minor": 5
}
